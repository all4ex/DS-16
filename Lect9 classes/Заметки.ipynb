{
 "cells": [
  {
   "cell_type": "code",
   "execution_count": 5,
   "id": "f12a70cc-ae5c-4561-b6a3-21704511a09e",
   "metadata": {},
   "outputs": [],
   "source": [
    "text = 'Даны три целых числа. Выведите значение наименьшего из них'"
   ]
  },
  {
   "cell_type": "code",
   "execution_count": 6,
   "id": "c946bdd0-6f82-4ea8-8a24-7b53f0e4b501",
   "metadata": {},
   "outputs": [
    {
     "data": {
      "text/plain": [
       "'х'"
      ]
     },
     "execution_count": 6,
     "metadata": {},
     "output_type": "execute_result"
    }
   ],
   "source": [
    "len(text) #Длина текста"
   ]
  },
  {
   "cell_type": "code",
   "execution_count": 7,
   "id": "6248240a-0b99-46e2-8046-d45332df38b0",
   "metadata": {},
   "outputs": [
    {
     "data": {
      "text/plain": [
       "'х'"
      ]
     },
     "execution_count": 7,
     "metadata": {},
     "output_type": "execute_result"
    }
   ],
   "source": [
    "text[len(text)-1] #Последняя буква"
   ]
  },
  {
   "cell_type": "code",
   "execution_count": 8,
   "id": "7671c83c-086d-49ee-884f-e4ac41de711d",
   "metadata": {},
   "outputs": [
    {
     "data": {
      "text/plain": [
       "2"
      ]
     },
     "execution_count": 8,
     "metadata": {},
     "output_type": "execute_result"
    }
   ],
   "source": [
    "text.count('т')"
   ]
  },
  {
   "cell_type": "code",
   "execution_count": 10,
   "id": "e2de141c-0fda-405b-8b8e-4d7ab8008628",
   "metadata": {},
   "outputs": [
    {
     "data": {
      "text/plain": [
       "'Даны три целых числа. выведите значение наименьшего из них'"
      ]
     },
     "execution_count": 10,
     "metadata": {},
     "output_type": "execute_result"
    }
   ],
   "source": [
    "text.capitalize() #Делает первую большую, а все остальное вниз"
   ]
  },
  {
   "cell_type": "code",
   "execution_count": 11,
   "id": "10c6e606-c7dd-4d1c-af15-912111f8e1e8",
   "metadata": {},
   "outputs": [
    {
     "data": {
      "text/plain": [
       "'ДАНЫ ТРИ ЦЕЛЫХ ЧИСЛА. ВЫВЕДИТЕ ЗНАЧЕНИЕ НАИМЕНЬШЕГО ИЗ НИХ'"
      ]
     },
     "execution_count": 11,
     "metadata": {},
     "output_type": "execute_result"
    }
   ],
   "source": [
    "text.upper() #Все в верхний регистр"
   ]
  },
  {
   "cell_type": "code",
   "execution_count": 12,
   "id": "44b1377f-ec4f-4991-b26e-3051c1620fd2",
   "metadata": {},
   "outputs": [
    {
     "data": {
      "text/plain": [
       "'даны три целых числа. выведите значение наименьшего из них'"
      ]
     },
     "execution_count": 12,
     "metadata": {},
     "output_type": "execute_result"
    }
   ],
   "source": [
    "text.lower()#Все в нижний регистр"
   ]
  },
  {
   "cell_type": "code",
   "execution_count": 17,
   "id": "f9e7c746-f53a-4414-a17e-4b2ea6f65dbb",
   "metadata": {},
   "outputs": [
    {
     "name": "stdout",
     "output_type": "stream",
     "text": [
      "9\n",
      "-1\n"
     ]
    }
   ],
   "source": [
    "print(text.find('ц')) #Ищем индекс буквы\n",
    "print(text.find('ц, 5, 10')) #Ищем индекс буквы с индексов 5-10 (-1) значит что не нашел"
   ]
  },
  {
   "cell_type": "code",
   "execution_count": 25,
   "id": "238b0d75-3921-428c-a51d-ba7de77c2685",
   "metadata": {},
   "outputs": [
    {
     "name": "stdout",
     "output_type": "stream",
     "text": [
      "True\n",
      "False\n"
     ]
    }
   ],
   "source": [
    "print('123ФВыфыв'.isalnum()) #проверяет все ли числа и буквы\n",
    "print('123ФВыфыв'.isalpha()) #проверяет все ли числа и буквы"
   ]
  },
  {
   "cell_type": "code",
   "execution_count": 29,
   "id": "da870816-6a9b-47fe-8610-ca469e84bfac",
   "metadata": {},
   "outputs": [
    {
     "name": "stdout",
     "output_type": "stream",
     "text": [
      "True\n",
      "False\n"
     ]
    }
   ],
   "source": [
    "print(' '.isspace()) #проверяет есть ли пустые строки\n",
    "print(''.isspace()) "
   ]
  },
  {
   "cell_type": "code",
   "execution_count": 30,
   "id": "41e85fb9-1ae7-46ad-bad5-7e094ee9cbf7",
   "metadata": {},
   "outputs": [
    {
     "name": "stdout",
     "output_type": "stream",
     "text": [
      "True\n",
      "True\n"
     ]
    }
   ],
   "source": [
    "h = 'hello'\n",
    "print(h.startswith('he'))\n",
    "print(h.endswith('lo'))"
   ]
  },
  {
   "cell_type": "code",
   "execution_count": 31,
   "id": "3f90aadd-4def-4f18-800f-71be73dc47fa",
   "metadata": {},
   "outputs": [
    {
     "name": "stdout",
     "output_type": "stream",
     "text": [
      "['he', '', 'o']\n"
     ]
    }
   ],
   "source": [
    "split = h.split('l')\n",
    "print (split)"
   ]
  },
  {
   "cell_type": "code",
   "execution_count": null,
   "id": "06991bd6-1c18-430e-87ce-a9d23789714c",
   "metadata": {},
   "outputs": [],
   "source": []
  }
 ],
 "metadata": {
  "kernelspec": {
   "display_name": "Python 3 (ipykernel)",
   "language": "python",
   "name": "python3"
  },
  "language_info": {
   "codemirror_mode": {
    "name": "ipython",
    "version": 3
   },
   "file_extension": ".py",
   "mimetype": "text/x-python",
   "name": "python",
   "nbconvert_exporter": "python",
   "pygments_lexer": "ipython3",
   "version": "3.10.6"
  }
 },
 "nbformat": 4,
 "nbformat_minor": 5
}
