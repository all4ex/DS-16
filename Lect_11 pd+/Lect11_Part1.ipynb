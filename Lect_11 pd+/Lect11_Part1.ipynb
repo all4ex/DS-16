{
 "cells": [
  {
   "cell_type": "markdown",
   "id": "0a1b24fc",
   "metadata": {},
   "source": [
    "# Практика EDA (разведочный анализ данных)"
   ]
  },
  {
   "cell_type": "markdown",
   "id": "9bca479d",
   "metadata": {},
   "source": [
    "Анализируем датасэт с информацией об атлетах, участвовавших в Олимпийских играх (olymp.csv). Разделитель запятая.\n",
    "\n",
    "Данные содержат следующие признаки: \\\n",
    "ID - уникальный номер спортсмена \\\n",
    "Name - имя атлета \\\n",
    "Sex - пол (мужской - M,  женский - F) \\\n",
    "Age - возраст атлета \\\n",
    "Height - рост (в см) \\\n",
    "Weight - вес (в кг) \\\n",
    "Team - cтрана \\\n",
    "NOC - код страны от Олимпийского комитета (3 буквы) \\\n",
    "Games - год и сезон Олимпийских игр \\\n",
    "Year - год Олимпийских игр \\\n",
    "Season - сезон (Зимние - Winter,  Лето - Summer) \\\n",
    "City - город проведения Олимпийских игр \\\n",
    "Sport - спортивная дисциплина \\\n",
    "Event - категория спортивной дисциплины \\\n",
    "Medal - достоинство медали (Золото - Gold, Серебро - Silver, Бронза - Bronze, Без медали - NaN)"
   ]
  },
  {
   "cell_type": "code",
   "execution_count": null,
   "id": "8cf1d54d",
   "metadata": {},
   "outputs": [],
   "source": [
    "# ваш анализ"
   ]
  }
 ],
 "metadata": {
  "kernelspec": {
   "display_name": "Python 3 (ipykernel)",
   "language": "python",
   "name": "python3"
  },
  "language_info": {
   "codemirror_mode": {
    "name": "ipython",
    "version": 3
   },
   "file_extension": ".py",
   "mimetype": "text/x-python",
   "name": "python",
   "nbconvert_exporter": "python",
   "pygments_lexer": "ipython3",
   "version": "3.9.18"
  }
 },
 "nbformat": 4,
 "nbformat_minor": 5
}
