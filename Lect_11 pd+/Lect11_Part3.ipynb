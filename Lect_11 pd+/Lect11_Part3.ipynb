{
 "cells": [
  {
   "cell_type": "markdown",
   "id": "ce397de8",
   "metadata": {},
   "source": [
    "# Python. Очный модуль в Москве\n",
    "\n",
    "## День 1. Часть 9 (Слияние таблиц, практика)"
   ]
  },
  {
   "cell_type": "markdown",
   "id": "1a3a3f56",
   "metadata": {},
   "source": [
    "Вам предоставлены данные по рынку недвижимости в регионах России по данным сайта Дом Клик: domclick.csv\n",
    "\n",
    "Признаки в данных:\n",
    "\n",
    "- rating_announcement - рейтинг регионов по количеству объявлений о продаже\n",
    "- rating_announcement_change - изменение рейтинга регионов по количеству объявлений о продаже\n",
    "- region - регион\n",
    "- announcement_count - общее количество активных объявлений о продаже\n",
    "- announcement_count_resale - активных объявлений, вторичка\n",
    "- announcement_count_new - активных объявлений, новостройки\n",
    "- avg_price_resale - cредняя стоимость м², вторичка\n",
    "- avg_price_new - cредняя стоимость м², новостройки\n",
    "- rating_loan - рейтинг регионов по количеству заявок на кредит\n",
    "- rating_loan_change - изменение рейтинга регионов по количеству заявок на кредит\n",
    "- min_numb_of_appr_loan - минимальное количество одобренных заявок\n",
    "- share_of_onln_loan - доля онлайн-заявок на кредит\n",
    "- share_of_office_loan - доля заявок в офисе банка"
   ]
  },
  {
   "cell_type": "markdown",
   "id": "a4d9716c",
   "metadata": {},
   "source": [
    "Вам предоставлены данные по субъектам РФ: FO.xlsx\n",
    "\n",
    "Признаки в данных: \n",
    "- Субъект РФ\t\n",
    "- Всё население\t\n",
    "- % от общ. населения\t\n",
    "- Городское население\t\n",
    "- % городского населения\t\n",
    "- Сельское население\t\n",
    "- % сельского населения\t\n",
    "- Площадь\t\n",
    "- Плотность населения\t\n",
    "- Федеральный округ"
   ]
  },
  {
   "cell_type": "code",
   "execution_count": 1,
   "id": "0cf962e9",
   "metadata": {},
   "outputs": [],
   "source": [
    "# загрузите датасеты\n",
    "import pandas as pd"
   ]
  },
  {
   "cell_type": "code",
   "execution_count": 3,
   "id": "8f37b6b7-8c4d-40c0-afbc-5aa696dd8af2",
   "metadata": {},
   "outputs": [
    {
     "data": {
      "text/html": [
       "<div>\n",
       "<style scoped>\n",
       "    .dataframe tbody tr th:only-of-type {\n",
       "        vertical-align: middle;\n",
       "    }\n",
       "\n",
       "    .dataframe tbody tr th {\n",
       "        vertical-align: top;\n",
       "    }\n",
       "\n",
       "    .dataframe thead th {\n",
       "        text-align: right;\n",
       "    }\n",
       "</style>\n",
       "<table border=\"1\" class=\"dataframe\">\n",
       "  <thead>\n",
       "    <tr style=\"text-align: right;\">\n",
       "      <th></th>\n",
       "      <th>rating_announcement</th>\n",
       "      <th>rating_announcement_change</th>\n",
       "      <th>region</th>\n",
       "      <th>announcement_count</th>\n",
       "      <th>announcement_count_resale</th>\n",
       "      <th>announcement_count_new</th>\n",
       "      <th>avg_price_resale</th>\n",
       "      <th>avg_price_new</th>\n",
       "      <th>rating_loan</th>\n",
       "      <th>rating_loan_change</th>\n",
       "      <th>min_numb_of_appr_loan</th>\n",
       "      <th>share_of_onln_loan</th>\n",
       "      <th>share_of_office_loan</th>\n",
       "    </tr>\n",
       "  </thead>\n",
       "  <tbody>\n",
       "    <tr>\n",
       "      <th>0</th>\n",
       "      <td>1</td>\n",
       "      <td>0</td>\n",
       "      <td>Краснодарский Край</td>\n",
       "      <td>228037</td>\n",
       "      <td>75809</td>\n",
       "      <td>52225.0</td>\n",
       "      <td>127764</td>\n",
       "      <td>132270.0</td>\n",
       "      <td>3</td>\n",
       "      <td>0</td>\n",
       "      <td>5000.0</td>\n",
       "      <td>0.47</td>\n",
       "      <td>0.53</td>\n",
       "    </tr>\n",
       "  </tbody>\n",
       "</table>\n",
       "</div>"
      ],
      "text/plain": [
       "   rating_announcement  rating_announcement_change              region  \\\n",
       "0                    1                           0  Краснодарский Край   \n",
       "\n",
       "   announcement_count  announcement_count_resale  announcement_count_new  \\\n",
       "0              228037                      75809                 52225.0   \n",
       "\n",
       "   avg_price_resale  avg_price_new  rating_loan  rating_loan_change  \\\n",
       "0            127764       132270.0            3                   0   \n",
       "\n",
       "   min_numb_of_appr_loan  share_of_onln_loan  share_of_office_loan  \n",
       "0                 5000.0                0.47                  0.53  "
      ]
     },
     "execution_count": 3,
     "metadata": {},
     "output_type": "execute_result"
    }
   ],
   "source": [
    "dom=pd.read_csv('domclick.csv')\n",
    "dom.head(1)"
   ]
  },
  {
   "cell_type": "code",
   "execution_count": 5,
   "id": "d01cd957-ada7-481a-9993-a82a7f05d5fa",
   "metadata": {},
   "outputs": [
    {
     "data": {
      "text/html": [
       "<div>\n",
       "<style scoped>\n",
       "    .dataframe tbody tr th:only-of-type {\n",
       "        vertical-align: middle;\n",
       "    }\n",
       "\n",
       "    .dataframe tbody tr th {\n",
       "        vertical-align: top;\n",
       "    }\n",
       "\n",
       "    .dataframe thead th {\n",
       "        text-align: right;\n",
       "    }\n",
       "</style>\n",
       "<table border=\"1\" class=\"dataframe\">\n",
       "  <thead>\n",
       "    <tr style=\"text-align: right;\">\n",
       "      <th></th>\n",
       "      <th>Субъект РФ</th>\n",
       "      <th>Всёнаселение</th>\n",
       "      <th>% от общ. населения</th>\n",
       "      <th>Городскоенаселение</th>\n",
       "      <th>% городского населения</th>\n",
       "      <th>Сельскоенаселение</th>\n",
       "      <th>% сельского населения</th>\n",
       "      <th>Площадь</th>\n",
       "      <th>Плотность населения</th>\n",
       "      <th>Федеральный округ</th>\n",
       "    </tr>\n",
       "  </thead>\n",
       "  <tbody>\n",
       "    <tr>\n",
       "      <th>0</th>\n",
       "      <td>Москва</td>\n",
       "      <td>13104177</td>\n",
       "      <td>8.95</td>\n",
       "      <td>13015126</td>\n",
       "      <td>99.32</td>\n",
       "      <td>0</td>\n",
       "      <td>0.0</td>\n",
       "      <td>2561</td>\n",
       "      <td>5116.82</td>\n",
       "      <td>ЦФО</td>\n",
       "    </tr>\n",
       "  </tbody>\n",
       "</table>\n",
       "</div>"
      ],
      "text/plain": [
       "  Субъект РФ  Всёнаселение  % от общ. населения  Городскоенаселение  \\\n",
       "0     Москва      13104177                 8.95            13015126   \n",
       "\n",
       "   % городского населения  Сельскоенаселение  % сельского населения  Площадь  \\\n",
       "0                   99.32                  0                    0.0     2561   \n",
       "\n",
       "   Плотность населения Федеральный округ  \n",
       "0              5116.82               ЦФО  "
      ]
     },
     "execution_count": 5,
     "metadata": {},
     "output_type": "execute_result"
    }
   ],
   "source": [
    "fo = pd.read_excel('FO.xlsx')\n",
    "fo.head(1)"
   ]
  },
  {
   "cell_type": "code",
   "execution_count": 21,
   "id": "3fd74724-16e8-4759-9c9b-2c1ac3864572",
   "metadata": {},
   "outputs": [],
   "source": [
    "fo.columns = ['regions', 'all', 'all_%', 'city', 'city_%', 'village', 'village_%', 'sq', 'density', 'FO'] #заменяем колонки в xlsx"
   ]
  },
  {
   "cell_type": "code",
   "execution_count": 22,
   "id": "999da3e1-c5ba-4aae-8592-d78d4464bcbd",
   "metadata": {},
   "outputs": [],
   "source": [
    "fo.columns.values[0] = 'region' #заменяем только одно значение"
   ]
  },
  {
   "cell_type": "code",
   "execution_count": 23,
   "id": "eb26b197-a11c-415d-9a8d-9f9057325e90",
   "metadata": {},
   "outputs": [
    {
     "data": {
      "text/plain": [
       "Index(['region', 'all', 'all_%', 'city', 'city_%', 'village', 'village_%',\n",
       "       'sq', 'density', 'FO'],\n",
       "      dtype='object')"
      ]
     },
     "execution_count": 23,
     "metadata": {},
     "output_type": "execute_result"
    }
   ],
   "source": [
    "fo.columns"
   ]
  },
  {
   "cell_type": "code",
   "execution_count": 25,
   "id": "04210c4a-97a8-4cef-8788-7c31d0b00a4d",
   "metadata": {},
   "outputs": [
    {
     "data": {
      "text/html": [
       "<div>\n",
       "<style scoped>\n",
       "    .dataframe tbody tr th:only-of-type {\n",
       "        vertical-align: middle;\n",
       "    }\n",
       "\n",
       "    .dataframe tbody tr th {\n",
       "        vertical-align: top;\n",
       "    }\n",
       "\n",
       "    .dataframe thead th {\n",
       "        text-align: right;\n",
       "    }\n",
       "</style>\n",
       "<table border=\"1\" class=\"dataframe\">\n",
       "  <thead>\n",
       "    <tr style=\"text-align: right;\">\n",
       "      <th></th>\n",
       "      <th>region</th>\n",
       "      <th>all</th>\n",
       "      <th>all_%</th>\n",
       "      <th>city</th>\n",
       "      <th>city_%</th>\n",
       "      <th>village</th>\n",
       "      <th>village_%</th>\n",
       "      <th>sq</th>\n",
       "      <th>density</th>\n",
       "      <th>FO</th>\n",
       "    </tr>\n",
       "  </thead>\n",
       "  <tbody>\n",
       "    <tr>\n",
       "      <th>0</th>\n",
       "      <td>Москва</td>\n",
       "      <td>13104177</td>\n",
       "      <td>8.95</td>\n",
       "      <td>13015126</td>\n",
       "      <td>99.32</td>\n",
       "      <td>0</td>\n",
       "      <td>0.00</td>\n",
       "      <td>2561</td>\n",
       "      <td>5116.82</td>\n",
       "      <td>ЦФО</td>\n",
       "    </tr>\n",
       "    <tr>\n",
       "      <th>1</th>\n",
       "      <td>Московская область</td>\n",
       "      <td>8591736</td>\n",
       "      <td>5.87</td>\n",
       "      <td>6703233</td>\n",
       "      <td>78.02</td>\n",
       "      <td>1839024</td>\n",
       "      <td>21.40</td>\n",
       "      <td>44329</td>\n",
       "      <td>193.82</td>\n",
       "      <td>ЦФО</td>\n",
       "    </tr>\n",
       "    <tr>\n",
       "      <th>2</th>\n",
       "      <td>Краснодарский край</td>\n",
       "      <td>5819345</td>\n",
       "      <td>3.97</td>\n",
       "      <td>3322319</td>\n",
       "      <td>57.09</td>\n",
       "      <td>2509723</td>\n",
       "      <td>43.13</td>\n",
       "      <td>75485</td>\n",
       "      <td>77.09</td>\n",
       "      <td>ЮФО</td>\n",
       "    </tr>\n",
       "    <tr>\n",
       "      <th>3</th>\n",
       "      <td>Санкт-Петербург</td>\n",
       "      <td>5600044</td>\n",
       "      <td>3.82</td>\n",
       "      <td>5607916</td>\n",
       "      <td>100.14</td>\n",
       "      <td>0</td>\n",
       "      <td>0.00</td>\n",
       "      <td>1403</td>\n",
       "      <td>3991.48</td>\n",
       "      <td>СЗФО</td>\n",
       "    </tr>\n",
       "    <tr>\n",
       "      <th>4</th>\n",
       "      <td>Свердловская область</td>\n",
       "      <td>4239161</td>\n",
       "      <td>2.89</td>\n",
       "      <td>3658528</td>\n",
       "      <td>86.30</td>\n",
       "      <td>605163</td>\n",
       "      <td>14.28</td>\n",
       "      <td>194307</td>\n",
       "      <td>21.82</td>\n",
       "      <td>УФО</td>\n",
       "    </tr>\n",
       "  </tbody>\n",
       "</table>\n",
       "</div>"
      ],
      "text/plain": [
       "                 region       all  all_%      city  city_%  village  \\\n",
       "0                Москва  13104177   8.95  13015126   99.32        0   \n",
       "1    Московская область   8591736   5.87   6703233   78.02  1839024   \n",
       "2    Краснодарский край   5819345   3.97   3322319   57.09  2509723   \n",
       "3       Санкт-Петербург   5600044   3.82   5607916  100.14        0   \n",
       "4  Свердловская область   4239161   2.89   3658528   86.30   605163   \n",
       "\n",
       "   village_%      sq  density    FO  \n",
       "0       0.00    2561  5116.82   ЦФО  \n",
       "1      21.40   44329   193.82   ЦФО  \n",
       "2      43.13   75485    77.09   ЮФО  \n",
       "3       0.00    1403  3991.48  СЗФО  \n",
       "4      14.28  194307    21.82   УФО  "
      ]
     },
     "execution_count": 25,
     "metadata": {},
     "output_type": "execute_result"
    }
   ],
   "source": [
    "fo.head()"
   ]
  },
  {
   "cell_type": "code",
   "execution_count": 26,
   "id": "124f8a55-e972-4198-9cfb-e88dfba051ad",
   "metadata": {},
   "outputs": [
    {
     "data": {
      "text/html": [
       "<div>\n",
       "<style scoped>\n",
       "    .dataframe tbody tr th:only-of-type {\n",
       "        vertical-align: middle;\n",
       "    }\n",
       "\n",
       "    .dataframe tbody tr th {\n",
       "        vertical-align: top;\n",
       "    }\n",
       "\n",
       "    .dataframe thead th {\n",
       "        text-align: right;\n",
       "    }\n",
       "</style>\n",
       "<table border=\"1\" class=\"dataframe\">\n",
       "  <thead>\n",
       "    <tr style=\"text-align: right;\">\n",
       "      <th></th>\n",
       "      <th>rating_announcement</th>\n",
       "      <th>rating_announcement_change</th>\n",
       "      <th>region</th>\n",
       "      <th>announcement_count</th>\n",
       "      <th>announcement_count_resale</th>\n",
       "      <th>announcement_count_new</th>\n",
       "      <th>avg_price_resale</th>\n",
       "      <th>avg_price_new</th>\n",
       "      <th>rating_loan</th>\n",
       "      <th>rating_loan_change</th>\n",
       "      <th>min_numb_of_appr_loan</th>\n",
       "      <th>share_of_onln_loan</th>\n",
       "      <th>share_of_office_loan</th>\n",
       "    </tr>\n",
       "  </thead>\n",
       "  <tbody>\n",
       "    <tr>\n",
       "      <th>0</th>\n",
       "      <td>1</td>\n",
       "      <td>0</td>\n",
       "      <td>Краснодарский Край</td>\n",
       "      <td>228037</td>\n",
       "      <td>75809</td>\n",
       "      <td>52225.0</td>\n",
       "      <td>127764</td>\n",
       "      <td>132270.0</td>\n",
       "      <td>3</td>\n",
       "      <td>0</td>\n",
       "      <td>5000.0</td>\n",
       "      <td>0.47</td>\n",
       "      <td>0.53</td>\n",
       "    </tr>\n",
       "    <tr>\n",
       "      <th>1</th>\n",
       "      <td>2</td>\n",
       "      <td>0</td>\n",
       "      <td>Московская Область</td>\n",
       "      <td>172242</td>\n",
       "      <td>57247</td>\n",
       "      <td>34838.0</td>\n",
       "      <td>153659</td>\n",
       "      <td>181756.0</td>\n",
       "      <td>1</td>\n",
       "      <td>1</td>\n",
       "      <td>10000.0</td>\n",
       "      <td>0.62</td>\n",
       "      <td>0.38</td>\n",
       "    </tr>\n",
       "    <tr>\n",
       "      <th>2</th>\n",
       "      <td>3</td>\n",
       "      <td>0</td>\n",
       "      <td>Москва</td>\n",
       "      <td>145131</td>\n",
       "      <td>65638</td>\n",
       "      <td>56824.0</td>\n",
       "      <td>275281</td>\n",
       "      <td>315195.0</td>\n",
       "      <td>2</td>\n",
       "      <td>-1</td>\n",
       "      <td>10000.0</td>\n",
       "      <td>0.60</td>\n",
       "      <td>0.40</td>\n",
       "    </tr>\n",
       "    <tr>\n",
       "      <th>3</th>\n",
       "      <td>4</td>\n",
       "      <td>0</td>\n",
       "      <td>Санкт-Петербург</td>\n",
       "      <td>93237</td>\n",
       "      <td>44008</td>\n",
       "      <td>40695.0</td>\n",
       "      <td>188425</td>\n",
       "      <td>236205.0</td>\n",
       "      <td>4</td>\n",
       "      <td>0</td>\n",
       "      <td>5000.0</td>\n",
       "      <td>0.53</td>\n",
       "      <td>0.47</td>\n",
       "    </tr>\n",
       "    <tr>\n",
       "      <th>4</th>\n",
       "      <td>5</td>\n",
       "      <td>1</td>\n",
       "      <td>Ростовская Область</td>\n",
       "      <td>88638</td>\n",
       "      <td>41625</td>\n",
       "      <td>17202.0</td>\n",
       "      <td>93333</td>\n",
       "      <td>105500.0</td>\n",
       "      <td>11</td>\n",
       "      <td>-2</td>\n",
       "      <td>5000.0</td>\n",
       "      <td>0.46</td>\n",
       "      <td>0.54</td>\n",
       "    </tr>\n",
       "  </tbody>\n",
       "</table>\n",
       "</div>"
      ],
      "text/plain": [
       "   rating_announcement  rating_announcement_change              region  \\\n",
       "0                    1                           0  Краснодарский Край   \n",
       "1                    2                           0  Московская Область   \n",
       "2                    3                           0              Москва   \n",
       "3                    4                           0     Санкт-Петербург   \n",
       "4                    5                           1  Ростовская Область   \n",
       "\n",
       "   announcement_count  announcement_count_resale  announcement_count_new  \\\n",
       "0              228037                      75809                 52225.0   \n",
       "1              172242                      57247                 34838.0   \n",
       "2              145131                      65638                 56824.0   \n",
       "3               93237                      44008                 40695.0   \n",
       "4               88638                      41625                 17202.0   \n",
       "\n",
       "   avg_price_resale  avg_price_new  rating_loan  rating_loan_change  \\\n",
       "0            127764       132270.0            3                   0   \n",
       "1            153659       181756.0            1                   1   \n",
       "2            275281       315195.0            2                  -1   \n",
       "3            188425       236205.0            4                   0   \n",
       "4             93333       105500.0           11                  -2   \n",
       "\n",
       "   min_numb_of_appr_loan  share_of_onln_loan  share_of_office_loan  \n",
       "0                 5000.0                0.47                  0.53  \n",
       "1                10000.0                0.62                  0.38  \n",
       "2                10000.0                0.60                  0.40  \n",
       "3                 5000.0                0.53                  0.47  \n",
       "4                 5000.0                0.46                  0.54  "
      ]
     },
     "execution_count": 26,
     "metadata": {},
     "output_type": "execute_result"
    }
   ],
   "source": [
    "dom.head()"
   ]
  },
  {
   "cell_type": "code",
   "execution_count": 29,
   "id": "38a87384-4dc6-44ed-8d2f-5ed79a029c65",
   "metadata": {},
   "outputs": [
    {
     "data": {
      "text/plain": [
       "'Новосибирская Область'"
      ]
     },
     "execution_count": 29,
     "metadata": {},
     "output_type": "execute_result"
    }
   ],
   "source": [
    "'Новосибирская область'.title()"
   ]
  },
  {
   "cell_type": "code",
   "execution_count": 27,
   "id": "a3144942-2399-49e9-9184-fcfe7af0d46d",
   "metadata": {},
   "outputs": [],
   "source": [
    "fo['region'] = fo['region'].apply(lambda x: x.title()) \n",
    "#перезапись колонки регион Метод .title() в Python применяется к строкам и изменяет регистр букв в строке таким образом, что первая буква каждого слова становится заглавной, а все остальные буквы — строчными"
   ]
  },
  {
   "cell_type": "code",
   "execution_count": 30,
   "id": "5a98132c-6a53-4d28-913a-6eb199f27f05",
   "metadata": {},
   "outputs": [],
   "source": [
    "dom['region'] = dom['region'].apply(lambda x: x.title()) #перезапись колонки регион для дома "
   ]
  },
  {
   "cell_type": "code",
   "execution_count": 41,
   "id": "89271068-da4e-4b15-821e-e8e2dc790366",
   "metadata": {},
   "outputs": [
    {
     "data": {
      "text/plain": [
       "{'Республика Крым[A]', 'Севастополь[A]'}"
      ]
     },
     "execution_count": 41,
     "metadata": {},
     "output_type": "execute_result"
    }
   ],
   "source": [
    "set(dom['region']) ^ set (fo['region'])"
   ]
  },
  {
   "cell_type": "code",
   "execution_count": 32,
   "id": "8c8cf805-07ae-4317-a6e9-59297a84a9d8",
   "metadata": {},
   "outputs": [
    {
     "data": {
      "text/html": [
       "<div>\n",
       "<style scoped>\n",
       "    .dataframe tbody tr th:only-of-type {\n",
       "        vertical-align: middle;\n",
       "    }\n",
       "\n",
       "    .dataframe tbody tr th {\n",
       "        vertical-align: top;\n",
       "    }\n",
       "\n",
       "    .dataframe thead th {\n",
       "        text-align: right;\n",
       "    }\n",
       "</style>\n",
       "<table border=\"1\" class=\"dataframe\">\n",
       "  <thead>\n",
       "    <tr style=\"text-align: right;\">\n",
       "      <th></th>\n",
       "      <th>rating_announcement</th>\n",
       "      <th>rating_announcement_change</th>\n",
       "      <th>region</th>\n",
       "      <th>announcement_count</th>\n",
       "      <th>announcement_count_resale</th>\n",
       "      <th>announcement_count_new</th>\n",
       "      <th>avg_price_resale</th>\n",
       "      <th>avg_price_new</th>\n",
       "      <th>rating_loan</th>\n",
       "      <th>rating_loan_change</th>\n",
       "      <th>min_numb_of_appr_loan</th>\n",
       "      <th>share_of_onln_loan</th>\n",
       "      <th>share_of_office_loan</th>\n",
       "    </tr>\n",
       "  </thead>\n",
       "  <tbody>\n",
       "    <tr>\n",
       "      <th>62</th>\n",
       "      <td>63</td>\n",
       "      <td>1</td>\n",
       "      <td>Республика Северная Осетия - Алания</td>\n",
       "      <td>5347</td>\n",
       "      <td>3462</td>\n",
       "      <td>316.0</td>\n",
       "      <td>71970</td>\n",
       "      <td>65000.0</td>\n",
       "      <td>48</td>\n",
       "      <td>0</td>\n",
       "      <td>1000.0</td>\n",
       "      <td>0.31</td>\n",
       "      <td>0.69</td>\n",
       "    </tr>\n",
       "  </tbody>\n",
       "</table>\n",
       "</div>"
      ],
      "text/plain": [
       "    rating_announcement  rating_announcement_change  \\\n",
       "62                   63                           1   \n",
       "\n",
       "                                 region  announcement_count  \\\n",
       "62  Республика Северная Осетия - Алания                5347   \n",
       "\n",
       "    announcement_count_resale  announcement_count_new  avg_price_resale  \\\n",
       "62                       3462                   316.0             71970   \n",
       "\n",
       "    avg_price_new  rating_loan  rating_loan_change  min_numb_of_appr_loan  \\\n",
       "62        65000.0           48                   0                 1000.0   \n",
       "\n",
       "    share_of_onln_loan  share_of_office_loan  \n",
       "62                0.31                  0.69  "
      ]
     },
     "execution_count": 32,
     "metadata": {},
     "output_type": "execute_result"
    }
   ],
   "source": [
    "dom[dom['region'] == 'Республика Северная Осетия - Алания'] #поиск косячника"
   ]
  },
  {
   "cell_type": "code",
   "execution_count": 33,
   "id": "a54bd147-f0f7-4e7b-80a5-e06a87e86bf5",
   "metadata": {
    "scrolled": true
   },
   "outputs": [
    {
     "data": {
      "text/html": [
       "<div>\n",
       "<style scoped>\n",
       "    .dataframe tbody tr th:only-of-type {\n",
       "        vertical-align: middle;\n",
       "    }\n",
       "\n",
       "    .dataframe tbody tr th {\n",
       "        vertical-align: top;\n",
       "    }\n",
       "\n",
       "    .dataframe thead th {\n",
       "        text-align: right;\n",
       "    }\n",
       "</style>\n",
       "<table border=\"1\" class=\"dataframe\">\n",
       "  <thead>\n",
       "    <tr style=\"text-align: right;\">\n",
       "      <th></th>\n",
       "      <th>region</th>\n",
       "      <th>all</th>\n",
       "      <th>all_%</th>\n",
       "      <th>city</th>\n",
       "      <th>city_%</th>\n",
       "      <th>village</th>\n",
       "      <th>village_%</th>\n",
       "      <th>sq</th>\n",
       "      <th>density</th>\n",
       "      <th>FO</th>\n",
       "    </tr>\n",
       "  </thead>\n",
       "  <tbody>\n",
       "  </tbody>\n",
       "</table>\n",
       "</div>"
      ],
      "text/plain": [
       "Empty DataFrame\n",
       "Columns: [region, all, all_%, city, city_%, village, village_%, sq, density, FO]\n",
       "Index: []"
      ]
     },
     "execution_count": 33,
     "metadata": {},
     "output_type": "execute_result"
    }
   ],
   "source": [
    "fo[fo['region'] == 'Республика Северная Осетия - Алания'] #поиск косячника"
   ]
  },
  {
   "cell_type": "code",
   "execution_count": 34,
   "id": "5e99fa26-d44d-4fea-90dd-9319594c1753",
   "metadata": {},
   "outputs": [
    {
     "data": {
      "text/plain": [
       "'Ханты-Мансийский Автономный Округ - Югра'"
      ]
     },
     "execution_count": 34,
     "metadata": {},
     "output_type": "execute_result"
    }
   ],
   "source": [
    "dom.at[19, 'region'] #поиск "
   ]
  },
  {
   "cell_type": "code",
   "execution_count": 38,
   "id": "52f898d8-764b-4312-a92a-f5d120edf18d",
   "metadata": {},
   "outputs": [],
   "source": [
    "dom.at[19, 'region'] = 'Ханты-Мансийский Автономный Округ — Югра'  #поиск и замена"
   ]
  },
  {
   "cell_type": "code",
   "execution_count": 40,
   "id": "bc3c5414-56ed-4567-9423-2dfd9649a20a",
   "metadata": {},
   "outputs": [],
   "source": [
    "dom.at[62, 'region'] = 'Республика Северная Осетия — Алания'  #поиск и замена"
   ]
  },
  {
   "attachments": {},
   "cell_type": "markdown",
   "id": "e4224a4b-1ac3-4e31-b3b7-4330b1c6e5a8",
   "metadata": {},
   "source": [
    "### Задание 1\n",
    "\n",
    "Создайте новый датафрейм, в котором к данным по рынку недвижимости у регионов будет проставлено всё население, % от общего населения\n",
    "\n",
    "\n",
    "\n",
    "### Задание 2\n",
    "\n",
    "Создайте новый датафрейм, где будет агрегированная информация о том, сколько в сумме активных объявлений вторичек и новостроек в каждом федеральном округе."
   ]
  },
  {
   "cell_type": "code",
   "execution_count": 42,
   "id": "a2816fa9",
   "metadata": {},
   "outputs": [],
   "source": [
    "dom.to_csv('dom_clean.csv', index=False)"
   ]
  },
  {
   "cell_type": "code",
   "execution_count": 43,
   "id": "82c4c084-568c-4f11-9448-24d449c894c9",
   "metadata": {},
   "outputs": [],
   "source": [
    "fo.to_csv('fo_clean.csv', index=False)"
   ]
  },
  {
   "cell_type": "markdown",
   "id": "d1756612-bd9f-4758-9218-dba2bd9ad304",
   "metadata": {},
   "source": [
    "### "
   ]
  },
  {
   "cell_type": "markdown",
   "id": "1da2ee03",
   "metadata": {},
   "source": [
    "### Задание 3\n",
    "\n",
    "Создайте новый датафрейм, где сохранится информация по населению в субъектах РФ, а также добавится информация по средней стоимости квадратного метра вторички и новостроек."
   ]
  },
  {
   "cell_type": "code",
   "execution_count": null,
   "id": "1a765675",
   "metadata": {},
   "outputs": [],
   "source": []
  },
  {
   "cell_type": "markdown",
   "id": "691af686",
   "metadata": {},
   "source": [
    "### Задание 4\n",
    "\n",
    "Посмотрите на корреляцию между данными по субъектам РФ и стоимости квадратного метра."
   ]
  },
  {
   "cell_type": "code",
   "execution_count": null,
   "id": "7bd186f2",
   "metadata": {},
   "outputs": [],
   "source": []
  },
  {
   "cell_type": "code",
   "execution_count": null,
   "id": "559bd3ff-facf-44ce-a532-4a764e5e0985",
   "metadata": {},
   "outputs": [],
   "source": [
    "df1= dom.merge(fo\n",
    "               how='left',\n",
    "               on='region'\n",
    "              )\n",
    "df1.head\n"
   ]
  }
 ],
 "metadata": {
  "kernelspec": {
   "display_name": "Python 3 (ipykernel)",
   "language": "python",
   "name": "python3"
  },
  "language_info": {
   "codemirror_mode": {
    "name": "ipython",
    "version": 3
   },
   "file_extension": ".py",
   "mimetype": "text/x-python",
   "name": "python",
   "nbconvert_exporter": "python",
   "pygments_lexer": "ipython3",
   "version": "3.11.7"
  }
 },
 "nbformat": 4,
 "nbformat_minor": 5
}
