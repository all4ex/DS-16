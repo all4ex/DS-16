{
 "cells": [
  {
   "cell_type": "markdown",
   "id": "ce397de8",
   "metadata": {},
   "source": [
    "# Python. Очный модуль в Москве\n",
    "\n",
    "## День 1. Часть 9 (Слияние таблиц, практика)"
   ]
  },
  {
   "cell_type": "markdown",
   "id": "1a3a3f56",
   "metadata": {},
   "source": [
    "Вам предоставлены данные по рынку недвижимости в регионах России по данным сайта Дом Клик: domclick.csv\n",
    "\n",
    "Признаки в данных:\n",
    "\n",
    "- rating_announcement - рейтинг регионов по количеству объявлений о продаже\n",
    "- rating_announcement_change - изменение рейтинга регионов по количеству объявлений о продаже\n",
    "- region - регион\n",
    "- announcement_count - общее количество активных объявлений о продаже\n",
    "- announcement_count_resale - активных объявлений, вторичка\n",
    "- announcement_count_new - активных объявлений, новостройки\n",
    "- avg_price_resale - cредняя стоимость м², вторичка\n",
    "- avg_price_new - cредняя стоимость м², новостройки\n",
    "- rating_loan - рейтинг регионов по количеству заявок на кредит\n",
    "- rating_loan_change - изменение рейтинга регионов по количеству заявок на кредит\n",
    "- min_numb_of_appr_loan - минимальное количество одобренных заявок\n",
    "- share_of_onln_loan - доля онлайн-заявок на кредит\n",
    "- share_of_office_loan - доля заявок в офисе банка"
   ]
  },
  {
   "cell_type": "markdown",
   "id": "a4d9716c",
   "metadata": {},
   "source": [
    "Вам предоставлены данные по субъектам РФ: FO.xlsx\n",
    "\n",
    "Признаки в данных: \n",
    "- Субъект РФ\t\n",
    "- Всё население\t\n",
    "- % от общ. населения\t\n",
    "- Городское население\t\n",
    "- % городского населения\t\n",
    "- Сельское население\t\n",
    "- % сельского населения\t\n",
    "- Площадь\t\n",
    "- Плотность населения\t\n",
    "- Федеральный округ"
   ]
  },
  {
   "cell_type": "code",
   "execution_count": 9,
   "id": "b6804176",
   "metadata": {
    "scrolled": true
   },
   "outputs": [
    {
     "data": {
      "text/html": [
       "<div>\n",
       "<style scoped>\n",
       "    .dataframe tbody tr th:only-of-type {\n",
       "        vertical-align: middle;\n",
       "    }\n",
       "\n",
       "    .dataframe tbody tr th {\n",
       "        vertical-align: top;\n",
       "    }\n",
       "\n",
       "    .dataframe thead th {\n",
       "        text-align: right;\n",
       "    }\n",
       "</style>\n",
       "<table border=\"1\" class=\"dataframe\">\n",
       "  <thead>\n",
       "    <tr style=\"text-align: right;\">\n",
       "      <th></th>\n",
       "      <th>rating_announcement</th>\n",
       "      <th>rating_announcement_change</th>\n",
       "      <th>region</th>\n",
       "      <th>announcement_count</th>\n",
       "      <th>announcement_count_resale</th>\n",
       "      <th>announcement_count_new</th>\n",
       "      <th>avg_price_resale</th>\n",
       "      <th>avg_price_new</th>\n",
       "      <th>rating_loan</th>\n",
       "      <th>rating_loan_change</th>\n",
       "      <th>min_numb_of_appr_loan</th>\n",
       "      <th>share_of_onln_loan</th>\n",
       "      <th>share_of_office_loan</th>\n",
       "    </tr>\n",
       "  </thead>\n",
       "  <tbody>\n",
       "    <tr>\n",
       "      <th>0</th>\n",
       "      <td>1</td>\n",
       "      <td>0</td>\n",
       "      <td>Краснодарский Край</td>\n",
       "      <td>228037</td>\n",
       "      <td>75809</td>\n",
       "      <td>52225.0</td>\n",
       "      <td>127764</td>\n",
       "      <td>132270.0</td>\n",
       "      <td>3</td>\n",
       "      <td>0</td>\n",
       "      <td>5000.0</td>\n",
       "      <td>0.47</td>\n",
       "      <td>0.53</td>\n",
       "    </tr>\n",
       "  </tbody>\n",
       "</table>\n",
       "</div>"
      ],
      "text/plain": [
       "   rating_announcement  rating_announcement_change              region  \\\n",
       "0                    1                           0  Краснодарский Край   \n",
       "\n",
       "   announcement_count  announcement_count_resale  announcement_count_new  \\\n",
       "0              228037                      75809                 52225.0   \n",
       "\n",
       "   avg_price_resale  avg_price_new  rating_loan  rating_loan_change  \\\n",
       "0            127764       132270.0            3                   0   \n",
       "\n",
       "   min_numb_of_appr_loan  share_of_onln_loan  share_of_office_loan  \n",
       "0                 5000.0                0.47                  0.53  "
      ]
     },
     "execution_count": 9,
     "metadata": {},
     "output_type": "execute_result"
    }
   ],
   "source": [
    "# загрузите датасетыb\n",
    "dom=pd.read_csv('dom_clean.csv')\n",
    "dom.head(1)"
   ]
  },
  {
   "cell_type": "code",
   "execution_count": 12,
   "id": "f5d19879-4efa-452d-af57-c3b9c62c760a",
   "metadata": {},
   "outputs": [
    {
     "data": {
      "text/html": [
       "<div>\n",
       "<style scoped>\n",
       "    .dataframe tbody tr th:only-of-type {\n",
       "        vertical-align: middle;\n",
       "    }\n",
       "\n",
       "    .dataframe tbody tr th {\n",
       "        vertical-align: top;\n",
       "    }\n",
       "\n",
       "    .dataframe thead th {\n",
       "        text-align: right;\n",
       "    }\n",
       "</style>\n",
       "<table border=\"1\" class=\"dataframe\">\n",
       "  <thead>\n",
       "    <tr style=\"text-align: right;\">\n",
       "      <th></th>\n",
       "      <th>region</th>\n",
       "      <th>all</th>\n",
       "      <th>all_%</th>\n",
       "      <th>city</th>\n",
       "      <th>city_%</th>\n",
       "      <th>village</th>\n",
       "      <th>village_%</th>\n",
       "      <th>sq</th>\n",
       "      <th>density</th>\n",
       "      <th>FO</th>\n",
       "    </tr>\n",
       "  </thead>\n",
       "  <tbody>\n",
       "    <tr>\n",
       "      <th>0</th>\n",
       "      <td>Москва</td>\n",
       "      <td>13104177</td>\n",
       "      <td>8.95</td>\n",
       "      <td>13015126</td>\n",
       "      <td>99.32</td>\n",
       "      <td>0</td>\n",
       "      <td>0.0</td>\n",
       "      <td>2561</td>\n",
       "      <td>5116.82</td>\n",
       "      <td>ЦФО</td>\n",
       "    </tr>\n",
       "  </tbody>\n",
       "</table>\n",
       "</div>"
      ],
      "text/plain": [
       "   region       all  all_%      city  city_%  village  village_%    sq  \\\n",
       "0  Москва  13104177   8.95  13015126   99.32        0        0.0  2561   \n",
       "\n",
       "   density   FO  \n",
       "0  5116.82  ЦФО  "
      ]
     },
     "execution_count": 12,
     "metadata": {},
     "output_type": "execute_result"
    }
   ],
   "source": [
    "fo = pd.read_csv('fo_clean.csv')\n",
    "fo.head(1)"
   ]
  },
  {
   "cell_type": "markdown",
   "id": "47629dbd",
   "metadata": {},
   "source": [
    "### Задание 1\n",
    "\n",
    "Создайте новый датафрейм, в котором к данным по рынку недвижимости у регионов будет проставлено всё население, % от общего населения"
   ]
  },
  {
   "cell_type": "code",
   "execution_count": 20,
   "id": "8dca4b64",
   "metadata": {},
   "outputs": [
    {
     "data": {
      "text/plain": [
       "<bound method NDFrame.head of     rating_announcement  rating_announcement_change  \\\n",
       "0                     1                           0   \n",
       "1                     2                           0   \n",
       "2                     3                           0   \n",
       "3                     4                           0   \n",
       "4                     5                           1   \n",
       "..                  ...                         ...   \n",
       "78                   79                           0   \n",
       "79                   81                          -1   \n",
       "80                   82                          -1   \n",
       "81                   84                          -2   \n",
       "82                   86                          -3   \n",
       "\n",
       "                          region  announcement_count  \\\n",
       "0             Краснодарский Край              228037   \n",
       "1             Московская Область              172242   \n",
       "2                         Москва              145131   \n",
       "3                Санкт-Петербург               93237   \n",
       "4             Ростовская Область               88638   \n",
       "..                           ...                 ...   \n",
       "78  Еврейская Автономная Область                 799   \n",
       "79          Республика Ингушетия                 684   \n",
       "80           Магаданская Область                 481   \n",
       "81    Чукотский Автономный Округ                  87   \n",
       "82     Ненецкий Автономный Округ                  64   \n",
       "\n",
       "    announcement_count_resale  announcement_count_new  avg_price_resale  \\\n",
       "0                       75809                 52225.0            127764   \n",
       "1                       57247                 34838.0            153659   \n",
       "2                       65638                 56824.0            275281   \n",
       "3                       44008                 40695.0            188425   \n",
       "4                       41625                 17202.0             93333   \n",
       "..                        ...                     ...               ...   \n",
       "78                        299                     NaN             71528   \n",
       "79                        329                     NaN             46763   \n",
       "80                        391                     NaN            113060   \n",
       "81                         78                     NaN            110500   \n",
       "82                         48                     NaN             85092   \n",
       "\n",
       "    avg_price_new  rating_loan  rating_loan_change  min_numb_of_appr_loan  \\\n",
       "0        132270.0            3                   0                 5000.0   \n",
       "1        181756.0            1                   1                10000.0   \n",
       "2        315195.0            2                  -1                10000.0   \n",
       "3        236205.0            4                   0                 5000.0   \n",
       "4        105500.0           11                  -2                 5000.0   \n",
       "..            ...          ...                 ...                    ...   \n",
       "78            NaN           80                   0                    1.0   \n",
       "79            NaN           84                  -2                    NaN   \n",
       "80            NaN           78                   0                  100.0   \n",
       "81            NaN           86                  -3                    NaN   \n",
       "82            NaN           82                  -1                    NaN   \n",
       "\n",
       "    share_of_onln_loan  share_of_office_loan       all  all_%  \n",
       "0                 0.47                  0.53   5819345   3.97  \n",
       "1                 0.62                  0.38   8591736   5.87  \n",
       "2                 0.60                  0.40  13104177   8.95  \n",
       "3                 0.53                  0.47   5600044   3.82  \n",
       "4                 0.46                  0.54   4164547   2.84  \n",
       "..                 ...                   ...       ...    ...  \n",
       "78                0.54                  0.46    147458   0.10  \n",
       "79                 NaN                   NaN    519078   0.35  \n",
       "80                0.67                  0.33    134315   0.09  \n",
       "81                 NaN                   NaN     47840   0.03  \n",
       "82                 NaN                   NaN     41383   0.03  \n",
       "\n",
       "[83 rows x 15 columns]>"
      ]
     },
     "execution_count": 20,
     "metadata": {},
     "output_type": "execute_result"
    }
   ],
   "source": [
    "df1= dom.merge(fo[['region', 'all', 'all_%']],\n",
    "               how='left',\n",
    "               on='region'\n",
    "              )\n",
    "df1.head\n"
   ]
  },
  {
   "cell_type": "code",
   "execution_count": 17,
   "id": "32d0714e-6abc-4a14-bdbc-c355c5f15975",
   "metadata": {},
   "outputs": [
    {
     "data": {
      "text/plain": [
       "<bound method NDFrame.head of                           region  announcement_count_resale  \\\n",
       "0             Краснодарский Край                      75809   \n",
       "1             Московская Область                      57247   \n",
       "2                         Москва                      65638   \n",
       "3                Санкт-Петербург                      44008   \n",
       "4             Ростовская Область                      41625   \n",
       "..                           ...                        ...   \n",
       "78  Еврейская Автономная Область                        299   \n",
       "79          Республика Ингушетия                        329   \n",
       "80           Магаданская Область                        391   \n",
       "81    Чукотский Автономный Округ                         78   \n",
       "82     Ненецкий Автономный Округ                         48   \n",
       "\n",
       "    announcement_count_new  \n",
       "0                  52225.0  \n",
       "1                  34838.0  \n",
       "2                  56824.0  \n",
       "3                  40695.0  \n",
       "4                  17202.0  \n",
       "..                     ...  \n",
       "78                     NaN  \n",
       "79                     NaN  \n",
       "80                     NaN  \n",
       "81                     NaN  \n",
       "82                     NaN  \n",
       "\n",
       "[83 rows x 3 columns]>"
      ]
     },
     "execution_count": 17,
     "metadata": {},
     "output_type": "execute_result"
    }
   ],
   "source": [
    "df2 = dom [['region',\n",
    "            'announcement_count_resale',\n",
    "            'announcement_count_new']]\n",
    "df2.head      "
   ]
  },
  {
   "cell_type": "code",
   "execution_count": 23,
   "id": "e40a39ca-157b-4be3-8ab5-2ed9a901a4fe",
   "metadata": {},
   "outputs": [
    {
     "data": {
      "text/html": [
       "<div>\n",
       "<style scoped>\n",
       "    .dataframe tbody tr th:only-of-type {\n",
       "        vertical-align: middle;\n",
       "    }\n",
       "\n",
       "    .dataframe tbody tr th {\n",
       "        vertical-align: top;\n",
       "    }\n",
       "\n",
       "    .dataframe thead th {\n",
       "        text-align: right;\n",
       "    }\n",
       "</style>\n",
       "<table border=\"1\" class=\"dataframe\">\n",
       "  <thead>\n",
       "    <tr style=\"text-align: right;\">\n",
       "      <th></th>\n",
       "      <th>rating_announcement</th>\n",
       "      <th>rating_announcement_change</th>\n",
       "      <th>region</th>\n",
       "      <th>announcement_count</th>\n",
       "      <th>announcement_count_resale</th>\n",
       "      <th>announcement_count_new</th>\n",
       "      <th>avg_price_resale</th>\n",
       "      <th>avg_price_new</th>\n",
       "      <th>rating_loan</th>\n",
       "      <th>rating_loan_change</th>\n",
       "      <th>min_numb_of_appr_loan</th>\n",
       "      <th>share_of_onln_loan</th>\n",
       "      <th>share_of_office_loan</th>\n",
       "      <th>all</th>\n",
       "      <th>all_%</th>\n",
       "    </tr>\n",
       "  </thead>\n",
       "  <tbody>\n",
       "    <tr>\n",
       "      <th>0</th>\n",
       "      <td>1</td>\n",
       "      <td>0</td>\n",
       "      <td>Краснодарский Край</td>\n",
       "      <td>228037</td>\n",
       "      <td>75809</td>\n",
       "      <td>52225.0</td>\n",
       "      <td>127764</td>\n",
       "      <td>132270.0</td>\n",
       "      <td>3</td>\n",
       "      <td>0</td>\n",
       "      <td>5000.0</td>\n",
       "      <td>0.47</td>\n",
       "      <td>0.53</td>\n",
       "      <td>5819345</td>\n",
       "      <td>3.97</td>\n",
       "    </tr>\n",
       "    <tr>\n",
       "      <th>1</th>\n",
       "      <td>2</td>\n",
       "      <td>0</td>\n",
       "      <td>Московская Область</td>\n",
       "      <td>172242</td>\n",
       "      <td>57247</td>\n",
       "      <td>34838.0</td>\n",
       "      <td>153659</td>\n",
       "      <td>181756.0</td>\n",
       "      <td>1</td>\n",
       "      <td>1</td>\n",
       "      <td>10000.0</td>\n",
       "      <td>0.62</td>\n",
       "      <td>0.38</td>\n",
       "      <td>8591736</td>\n",
       "      <td>5.87</td>\n",
       "    </tr>\n",
       "    <tr>\n",
       "      <th>2</th>\n",
       "      <td>3</td>\n",
       "      <td>0</td>\n",
       "      <td>Москва</td>\n",
       "      <td>145131</td>\n",
       "      <td>65638</td>\n",
       "      <td>56824.0</td>\n",
       "      <td>275281</td>\n",
       "      <td>315195.0</td>\n",
       "      <td>2</td>\n",
       "      <td>-1</td>\n",
       "      <td>10000.0</td>\n",
       "      <td>0.60</td>\n",
       "      <td>0.40</td>\n",
       "      <td>13104177</td>\n",
       "      <td>8.95</td>\n",
       "    </tr>\n",
       "    <tr>\n",
       "      <th>3</th>\n",
       "      <td>4</td>\n",
       "      <td>0</td>\n",
       "      <td>Санкт-Петербург</td>\n",
       "      <td>93237</td>\n",
       "      <td>44008</td>\n",
       "      <td>40695.0</td>\n",
       "      <td>188425</td>\n",
       "      <td>236205.0</td>\n",
       "      <td>4</td>\n",
       "      <td>0</td>\n",
       "      <td>5000.0</td>\n",
       "      <td>0.53</td>\n",
       "      <td>0.47</td>\n",
       "      <td>5600044</td>\n",
       "      <td>3.82</td>\n",
       "    </tr>\n",
       "    <tr>\n",
       "      <th>4</th>\n",
       "      <td>5</td>\n",
       "      <td>1</td>\n",
       "      <td>Ростовская Область</td>\n",
       "      <td>88638</td>\n",
       "      <td>41625</td>\n",
       "      <td>17202.0</td>\n",
       "      <td>93333</td>\n",
       "      <td>105500.0</td>\n",
       "      <td>11</td>\n",
       "      <td>-2</td>\n",
       "      <td>5000.0</td>\n",
       "      <td>0.46</td>\n",
       "      <td>0.54</td>\n",
       "      <td>4164547</td>\n",
       "      <td>2.84</td>\n",
       "    </tr>\n",
       "  </tbody>\n",
       "</table>\n",
       "</div>"
      ],
      "text/plain": [
       "   rating_announcement  rating_announcement_change              region  \\\n",
       "0                    1                           0  Краснодарский Край   \n",
       "1                    2                           0  Московская Область   \n",
       "2                    3                           0              Москва   \n",
       "3                    4                           0     Санкт-Петербург   \n",
       "4                    5                           1  Ростовская Область   \n",
       "\n",
       "   announcement_count  announcement_count_resale  announcement_count_new  \\\n",
       "0              228037                      75809                 52225.0   \n",
       "1              172242                      57247                 34838.0   \n",
       "2              145131                      65638                 56824.0   \n",
       "3               93237                      44008                 40695.0   \n",
       "4               88638                      41625                 17202.0   \n",
       "\n",
       "   avg_price_resale  avg_price_new  rating_loan  rating_loan_change  \\\n",
       "0            127764       132270.0            3                   0   \n",
       "1            153659       181756.0            1                   1   \n",
       "2            275281       315195.0            2                  -1   \n",
       "3            188425       236205.0            4                   0   \n",
       "4             93333       105500.0           11                  -2   \n",
       "\n",
       "   min_numb_of_appr_loan  share_of_onln_loan  share_of_office_loan       all  \\\n",
       "0                 5000.0                0.47                  0.53   5819345   \n",
       "1                10000.0                0.62                  0.38   8591736   \n",
       "2                10000.0                0.60                  0.40  13104177   \n",
       "3                 5000.0                0.53                  0.47   5600044   \n",
       "4                 5000.0                0.46                  0.54   4164547   \n",
       "\n",
       "   all_%  \n",
       "0   3.97  \n",
       "1   5.87  \n",
       "2   8.95  \n",
       "3   3.82  \n",
       "4   2.84  "
      ]
     },
     "execution_count": 23,
     "metadata": {},
     "output_type": "execute_result"
    }
   ],
   "source": [
    "df1.head()"
   ]
  },
  {
   "cell_type": "code",
   "execution_count": 26,
   "id": "4ecb9eaa-e672-4933-87b9-88676de1687d",
   "metadata": {},
   "outputs": [
    {
     "ename": "KeyError",
     "evalue": "'FO'",
     "output_type": "error",
     "traceback": [
      "\u001b[1;31m---------------------------------------------------------------------------\u001b[0m",
      "\u001b[1;31mKeyError\u001b[0m                                  Traceback (most recent call last)",
      "Cell \u001b[1;32mIn[26], line 1\u001b[0m\n\u001b[1;32m----> 1\u001b[0m df2\u001b[38;5;241m.\u001b[39mgroupby(\u001b[38;5;124m'\u001b[39m\u001b[38;5;124mFO\u001b[39m\u001b[38;5;124m'\u001b[39m)[[\u001b[38;5;124m'\u001b[39m\u001b[38;5;124mannouncement_count_resale\u001b[39m\u001b[38;5;124m'\u001b[39m, \u001b[38;5;124m'\u001b[39m\u001b[38;5;124mannouncement_count_new\u001b[39m\u001b[38;5;124m'\u001b[39m]]\u001b[38;5;241m.\u001b[39msum()\n",
      "File \u001b[1;32m~\\anaconda3\\Lib\\site-packages\\pandas\\core\\frame.py:8869\u001b[0m, in \u001b[0;36mDataFrame.groupby\u001b[1;34m(self, by, axis, level, as_index, sort, group_keys, observed, dropna)\u001b[0m\n\u001b[0;32m   8866\u001b[0m \u001b[38;5;28;01mif\u001b[39;00m level \u001b[38;5;129;01mis\u001b[39;00m \u001b[38;5;28;01mNone\u001b[39;00m \u001b[38;5;129;01mand\u001b[39;00m by \u001b[38;5;129;01mis\u001b[39;00m \u001b[38;5;28;01mNone\u001b[39;00m:\n\u001b[0;32m   8867\u001b[0m     \u001b[38;5;28;01mraise\u001b[39;00m \u001b[38;5;167;01mTypeError\u001b[39;00m(\u001b[38;5;124m\"\u001b[39m\u001b[38;5;124mYou have to supply one of \u001b[39m\u001b[38;5;124m'\u001b[39m\u001b[38;5;124mby\u001b[39m\u001b[38;5;124m'\u001b[39m\u001b[38;5;124m and \u001b[39m\u001b[38;5;124m'\u001b[39m\u001b[38;5;124mlevel\u001b[39m\u001b[38;5;124m'\u001b[39m\u001b[38;5;124m\"\u001b[39m)\n\u001b[1;32m-> 8869\u001b[0m \u001b[38;5;28;01mreturn\u001b[39;00m DataFrameGroupBy(\n\u001b[0;32m   8870\u001b[0m     obj\u001b[38;5;241m=\u001b[39m\u001b[38;5;28mself\u001b[39m,\n\u001b[0;32m   8871\u001b[0m     keys\u001b[38;5;241m=\u001b[39mby,\n\u001b[0;32m   8872\u001b[0m     axis\u001b[38;5;241m=\u001b[39maxis,\n\u001b[0;32m   8873\u001b[0m     level\u001b[38;5;241m=\u001b[39mlevel,\n\u001b[0;32m   8874\u001b[0m     as_index\u001b[38;5;241m=\u001b[39mas_index,\n\u001b[0;32m   8875\u001b[0m     sort\u001b[38;5;241m=\u001b[39msort,\n\u001b[0;32m   8876\u001b[0m     group_keys\u001b[38;5;241m=\u001b[39mgroup_keys,\n\u001b[0;32m   8877\u001b[0m     observed\u001b[38;5;241m=\u001b[39mobserved,\n\u001b[0;32m   8878\u001b[0m     dropna\u001b[38;5;241m=\u001b[39mdropna,\n\u001b[0;32m   8879\u001b[0m )\n",
      "File \u001b[1;32m~\\anaconda3\\Lib\\site-packages\\pandas\\core\\groupby\\groupby.py:1278\u001b[0m, in \u001b[0;36mGroupBy.__init__\u001b[1;34m(self, obj, keys, axis, level, grouper, exclusions, selection, as_index, sort, group_keys, observed, dropna)\u001b[0m\n\u001b[0;32m   1275\u001b[0m \u001b[38;5;28mself\u001b[39m\u001b[38;5;241m.\u001b[39mdropna \u001b[38;5;241m=\u001b[39m dropna\n\u001b[0;32m   1277\u001b[0m \u001b[38;5;28;01mif\u001b[39;00m grouper \u001b[38;5;129;01mis\u001b[39;00m \u001b[38;5;28;01mNone\u001b[39;00m:\n\u001b[1;32m-> 1278\u001b[0m     grouper, exclusions, obj \u001b[38;5;241m=\u001b[39m get_grouper(\n\u001b[0;32m   1279\u001b[0m         obj,\n\u001b[0;32m   1280\u001b[0m         keys,\n\u001b[0;32m   1281\u001b[0m         axis\u001b[38;5;241m=\u001b[39maxis,\n\u001b[0;32m   1282\u001b[0m         level\u001b[38;5;241m=\u001b[39mlevel,\n\u001b[0;32m   1283\u001b[0m         sort\u001b[38;5;241m=\u001b[39msort,\n\u001b[0;32m   1284\u001b[0m         observed\u001b[38;5;241m=\u001b[39m\u001b[38;5;28;01mFalse\u001b[39;00m \u001b[38;5;28;01mif\u001b[39;00m observed \u001b[38;5;129;01mis\u001b[39;00m lib\u001b[38;5;241m.\u001b[39mno_default \u001b[38;5;28;01melse\u001b[39;00m observed,\n\u001b[0;32m   1285\u001b[0m         dropna\u001b[38;5;241m=\u001b[39m\u001b[38;5;28mself\u001b[39m\u001b[38;5;241m.\u001b[39mdropna,\n\u001b[0;32m   1286\u001b[0m     )\n\u001b[0;32m   1288\u001b[0m \u001b[38;5;28;01mif\u001b[39;00m observed \u001b[38;5;129;01mis\u001b[39;00m lib\u001b[38;5;241m.\u001b[39mno_default:\n\u001b[0;32m   1289\u001b[0m     \u001b[38;5;28;01mif\u001b[39;00m \u001b[38;5;28many\u001b[39m(ping\u001b[38;5;241m.\u001b[39m_passed_categorical \u001b[38;5;28;01mfor\u001b[39;00m ping \u001b[38;5;129;01min\u001b[39;00m grouper\u001b[38;5;241m.\u001b[39mgroupings):\n",
      "File \u001b[1;32m~\\anaconda3\\Lib\\site-packages\\pandas\\core\\groupby\\grouper.py:1009\u001b[0m, in \u001b[0;36mget_grouper\u001b[1;34m(obj, key, axis, level, sort, observed, validate, dropna)\u001b[0m\n\u001b[0;32m   1007\u001b[0m         in_axis, level, gpr \u001b[38;5;241m=\u001b[39m \u001b[38;5;28;01mFalse\u001b[39;00m, gpr, \u001b[38;5;28;01mNone\u001b[39;00m\n\u001b[0;32m   1008\u001b[0m     \u001b[38;5;28;01melse\u001b[39;00m:\n\u001b[1;32m-> 1009\u001b[0m         \u001b[38;5;28;01mraise\u001b[39;00m \u001b[38;5;167;01mKeyError\u001b[39;00m(gpr)\n\u001b[0;32m   1010\u001b[0m \u001b[38;5;28;01melif\u001b[39;00m \u001b[38;5;28misinstance\u001b[39m(gpr, Grouper) \u001b[38;5;129;01mand\u001b[39;00m gpr\u001b[38;5;241m.\u001b[39mkey \u001b[38;5;129;01mis\u001b[39;00m \u001b[38;5;129;01mnot\u001b[39;00m \u001b[38;5;28;01mNone\u001b[39;00m:\n\u001b[0;32m   1011\u001b[0m     \u001b[38;5;66;03m# Add key to exclusions\u001b[39;00m\n\u001b[0;32m   1012\u001b[0m     exclusions\u001b[38;5;241m.\u001b[39madd(gpr\u001b[38;5;241m.\u001b[39mkey)\n",
      "\u001b[1;31mKeyError\u001b[0m: 'FO'"
     ]
    }
   ],
   "source": [
    "df2.groupby('FO')[['announcement_count_resale', 'announcement_count_new']].sum()"
   ]
  },
  {
   "cell_type": "markdown",
   "id": "f0ba41c3",
   "metadata": {},
   "source": [
    "### Задание 2\n",
    "\n",
    "Создайте новый датафрейм, где будет агрегированная информация о том, сколько в сумме активных объявлений вторичек и новостроек в каждом федеральном округе."
   ]
  },
  {
   "cell_type": "code",
   "execution_count": null,
   "id": "a2816fa9",
   "metadata": {},
   "outputs": [],
   "source": []
  },
  {
   "cell_type": "markdown",
   "id": "1da2ee03",
   "metadata": {},
   "source": [
    "### Задание 3\n",
    "\n",
    "Создайте новый датафрейм, где сохранится информация по населению в субъектах РФ, а также добавится информация по средней стоимости квадратного метра вторички и новостроек."
   ]
  },
  {
   "cell_type": "code",
   "execution_count": 29,
   "id": "1a765675",
   "metadata": {},
   "outputs": [],
   "source": [
    "df3 = fo[['region', 'all']].merge(dom[\n",
    "                                  ['region', 'avg_price_resale','avg_price_new']],\n",
    "                                  how='inner',\n",
    "                                  on ='region')"
   ]
  },
  {
   "cell_type": "code",
   "execution_count": 30,
   "id": "e373da60-b6b0-47c5-a098-bb8e4255c26b",
   "metadata": {},
   "outputs": [
    {
     "data": {
      "text/plain": [
       "<bound method NDFrame.head of                           region       all  avg_price_resale  avg_price_new\n",
       "0                         Москва  13104177            275281       315195.0\n",
       "1             Московская Область   8591736            153659       181756.0\n",
       "2             Краснодарский Край   5819345            127764       132270.0\n",
       "3                Санкт-Петербург   5600044            188425       236205.0\n",
       "4           Свердловская Область   4239161             92459       115375.0\n",
       "..                           ...       ...               ...            ...\n",
       "78              Республика Алтай    210769            104167        96000.0\n",
       "79  Еврейская Автономная Область    147458             71528            NaN\n",
       "80           Магаданская Область    134315            113060            NaN\n",
       "81    Чукотский Автономный Округ     47840            110500            NaN\n",
       "82     Ненецкий Автономный Округ     41383             85092            NaN\n",
       "\n",
       "[83 rows x 4 columns]>"
      ]
     },
     "execution_count": 30,
     "metadata": {},
     "output_type": "execute_result"
    }
   ],
   "source": [
    "df3.head"
   ]
  },
  {
   "cell_type": "code",
   "execution_count": 35,
   "id": "68d83fee-0197-4c6e-a91c-e08c7ec0139c",
   "metadata": {},
   "outputs": [
    {
     "data": {
      "text/plain": [
       "region              0\n",
       "all                 0\n",
       "avg_price_resale    0\n",
       "avg_price_new       0\n",
       "dtype: int64"
      ]
     },
     "execution_count": 35,
     "metadata": {},
     "output_type": "execute_result"
    }
   ],
   "source": [
    "df3.isna().sum()"
   ]
  },
  {
   "cell_type": "code",
   "execution_count": 34,
   "id": "439053a6-67da-4fd8-a983-614b73e586ff",
   "metadata": {},
   "outputs": [],
   "source": [
    "df3['avg_price_new'] = df3['avg_price_new'].astype(int)"
   ]
  },
  {
   "cell_type": "code",
   "execution_count": 37,
   "id": "bf31fe9a-1fe5-49c3-a6de-e6dc35dd2a6b",
   "metadata": {},
   "outputs": [
    {
     "data": {
      "text/html": [
       "<div>\n",
       "<style scoped>\n",
       "    .dataframe tbody tr th:only-of-type {\n",
       "        vertical-align: middle;\n",
       "    }\n",
       "\n",
       "    .dataframe tbody tr th {\n",
       "        vertical-align: top;\n",
       "    }\n",
       "\n",
       "    .dataframe thead th {\n",
       "        text-align: right;\n",
       "    }\n",
       "</style>\n",
       "<table border=\"1\" class=\"dataframe\">\n",
       "  <thead>\n",
       "    <tr style=\"text-align: right;\">\n",
       "      <th></th>\n",
       "      <th>avg_price_new</th>\n",
       "    </tr>\n",
       "  </thead>\n",
       "  <tbody>\n",
       "    <tr>\n",
       "      <th>0</th>\n",
       "      <td>315,195.00</td>\n",
       "    </tr>\n",
       "    <tr>\n",
       "      <th>1</th>\n",
       "      <td>181,756.00</td>\n",
       "    </tr>\n",
       "    <tr>\n",
       "      <th>2</th>\n",
       "      <td>132,270.00</td>\n",
       "    </tr>\n",
       "    <tr>\n",
       "      <th>3</th>\n",
       "      <td>236,205.00</td>\n",
       "    </tr>\n",
       "    <tr>\n",
       "      <th>4</th>\n",
       "      <td>115,375.00</td>\n",
       "    </tr>\n",
       "    <tr>\n",
       "      <th>...</th>\n",
       "      <td>...</td>\n",
       "    </tr>\n",
       "    <tr>\n",
       "      <th>78</th>\n",
       "      <td>96,000.00</td>\n",
       "    </tr>\n",
       "    <tr>\n",
       "      <th>79</th>\n",
       "      <td>0.00</td>\n",
       "    </tr>\n",
       "    <tr>\n",
       "      <th>80</th>\n",
       "      <td>0.00</td>\n",
       "    </tr>\n",
       "    <tr>\n",
       "      <th>81</th>\n",
       "      <td>0.00</td>\n",
       "    </tr>\n",
       "    <tr>\n",
       "      <th>82</th>\n",
       "      <td>0.00</td>\n",
       "    </tr>\n",
       "  </tbody>\n",
       "</table>\n",
       "<p>83 rows × 1 columns</p>\n",
       "</div>"
      ],
      "text/plain": [
       "   avg_price_new\n",
       "0     315,195.00\n",
       "1     181,756.00\n",
       "2     132,270.00\n",
       "3     236,205.00\n",
       "4     115,375.00\n",
       "..           ...\n",
       "78     96,000.00\n",
       "79          0.00\n",
       "80          0.00\n",
       "81          0.00\n",
       "82          0.00\n",
       "\n",
       "[83 rows x 1 columns]"
      ]
     },
     "execution_count": 37,
     "metadata": {},
     "output_type": "execute_result"
    }
   ],
   "source": [
    "df3[['avg_price_new']].map('{:,.2f}'.format)"
   ]
  },
  {
   "cell_type": "markdown",
   "id": "691af686",
   "metadata": {},
   "source": [
    "### Задание 4\n",
    "\n",
    "Посмотрите на корреляцию между данными по субъектам РФ и стоимости квадратного метра."
   ]
  },
  {
   "cell_type": "code",
   "execution_count": 38,
   "id": "cfca815f-8cc0-4988-81aa-589bf36b25f0",
   "metadata": {},
   "outputs": [
    {
     "ename": "ValueError",
     "evalue": "could not convert string to float: 'Москва'",
     "output_type": "error",
     "traceback": [
      "\u001b[1;31m---------------------------------------------------------------------------\u001b[0m",
      "\u001b[1;31mValueError\u001b[0m                                Traceback (most recent call last)",
      "Cell \u001b[1;32mIn[38], line 1\u001b[0m\n\u001b[1;32m----> 1\u001b[0m df3\u001b[38;5;241m.\u001b[39mcorr()\n",
      "File \u001b[1;32m~\\anaconda3\\Lib\\site-packages\\pandas\\core\\frame.py:10704\u001b[0m, in \u001b[0;36mDataFrame.corr\u001b[1;34m(self, method, min_periods, numeric_only)\u001b[0m\n\u001b[0;32m  10702\u001b[0m cols \u001b[38;5;241m=\u001b[39m data\u001b[38;5;241m.\u001b[39mcolumns\n\u001b[0;32m  10703\u001b[0m idx \u001b[38;5;241m=\u001b[39m cols\u001b[38;5;241m.\u001b[39mcopy()\n\u001b[1;32m> 10704\u001b[0m mat \u001b[38;5;241m=\u001b[39m data\u001b[38;5;241m.\u001b[39mto_numpy(dtype\u001b[38;5;241m=\u001b[39m\u001b[38;5;28mfloat\u001b[39m, na_value\u001b[38;5;241m=\u001b[39mnp\u001b[38;5;241m.\u001b[39mnan, copy\u001b[38;5;241m=\u001b[39m\u001b[38;5;28;01mFalse\u001b[39;00m)\n\u001b[0;32m  10706\u001b[0m \u001b[38;5;28;01mif\u001b[39;00m method \u001b[38;5;241m==\u001b[39m \u001b[38;5;124m\"\u001b[39m\u001b[38;5;124mpearson\u001b[39m\u001b[38;5;124m\"\u001b[39m:\n\u001b[0;32m  10707\u001b[0m     correl \u001b[38;5;241m=\u001b[39m libalgos\u001b[38;5;241m.\u001b[39mnancorr(mat, minp\u001b[38;5;241m=\u001b[39mmin_periods)\n",
      "File \u001b[1;32m~\\anaconda3\\Lib\\site-packages\\pandas\\core\\frame.py:1889\u001b[0m, in \u001b[0;36mDataFrame.to_numpy\u001b[1;34m(self, dtype, copy, na_value)\u001b[0m\n\u001b[0;32m   1887\u001b[0m \u001b[38;5;28;01mif\u001b[39;00m dtype \u001b[38;5;129;01mis\u001b[39;00m \u001b[38;5;129;01mnot\u001b[39;00m \u001b[38;5;28;01mNone\u001b[39;00m:\n\u001b[0;32m   1888\u001b[0m     dtype \u001b[38;5;241m=\u001b[39m np\u001b[38;5;241m.\u001b[39mdtype(dtype)\n\u001b[1;32m-> 1889\u001b[0m result \u001b[38;5;241m=\u001b[39m \u001b[38;5;28mself\u001b[39m\u001b[38;5;241m.\u001b[39m_mgr\u001b[38;5;241m.\u001b[39mas_array(dtype\u001b[38;5;241m=\u001b[39mdtype, copy\u001b[38;5;241m=\u001b[39mcopy, na_value\u001b[38;5;241m=\u001b[39mna_value)\n\u001b[0;32m   1890\u001b[0m \u001b[38;5;28;01mif\u001b[39;00m result\u001b[38;5;241m.\u001b[39mdtype \u001b[38;5;129;01mis\u001b[39;00m \u001b[38;5;129;01mnot\u001b[39;00m dtype:\n\u001b[0;32m   1891\u001b[0m     result \u001b[38;5;241m=\u001b[39m np\u001b[38;5;241m.\u001b[39marray(result, dtype\u001b[38;5;241m=\u001b[39mdtype, copy\u001b[38;5;241m=\u001b[39m\u001b[38;5;28;01mFalse\u001b[39;00m)\n",
      "File \u001b[1;32m~\\anaconda3\\Lib\\site-packages\\pandas\\core\\internals\\managers.py:1656\u001b[0m, in \u001b[0;36mBlockManager.as_array\u001b[1;34m(self, dtype, copy, na_value)\u001b[0m\n\u001b[0;32m   1654\u001b[0m         arr\u001b[38;5;241m.\u001b[39mflags\u001b[38;5;241m.\u001b[39mwriteable \u001b[38;5;241m=\u001b[39m \u001b[38;5;28;01mFalse\u001b[39;00m\n\u001b[0;32m   1655\u001b[0m \u001b[38;5;28;01melse\u001b[39;00m:\n\u001b[1;32m-> 1656\u001b[0m     arr \u001b[38;5;241m=\u001b[39m \u001b[38;5;28mself\u001b[39m\u001b[38;5;241m.\u001b[39m_interleave(dtype\u001b[38;5;241m=\u001b[39mdtype, na_value\u001b[38;5;241m=\u001b[39mna_value)\n\u001b[0;32m   1657\u001b[0m     \u001b[38;5;66;03m# The underlying data was copied within _interleave, so no need\u001b[39;00m\n\u001b[0;32m   1658\u001b[0m     \u001b[38;5;66;03m# to further copy if copy=True or setting na_value\u001b[39;00m\n\u001b[0;32m   1660\u001b[0m \u001b[38;5;28;01mif\u001b[39;00m na_value \u001b[38;5;129;01mis\u001b[39;00m lib\u001b[38;5;241m.\u001b[39mno_default:\n",
      "File \u001b[1;32m~\\anaconda3\\Lib\\site-packages\\pandas\\core\\internals\\managers.py:1715\u001b[0m, in \u001b[0;36mBlockManager._interleave\u001b[1;34m(self, dtype, na_value)\u001b[0m\n\u001b[0;32m   1713\u001b[0m     \u001b[38;5;28;01melse\u001b[39;00m:\n\u001b[0;32m   1714\u001b[0m         arr \u001b[38;5;241m=\u001b[39m blk\u001b[38;5;241m.\u001b[39mget_values(dtype)\n\u001b[1;32m-> 1715\u001b[0m     result[rl\u001b[38;5;241m.\u001b[39mindexer] \u001b[38;5;241m=\u001b[39m arr\n\u001b[0;32m   1716\u001b[0m     itemmask[rl\u001b[38;5;241m.\u001b[39mindexer] \u001b[38;5;241m=\u001b[39m \u001b[38;5;241m1\u001b[39m\n\u001b[0;32m   1718\u001b[0m \u001b[38;5;28;01mif\u001b[39;00m \u001b[38;5;129;01mnot\u001b[39;00m itemmask\u001b[38;5;241m.\u001b[39mall():\n",
      "\u001b[1;31mValueError\u001b[0m: could not convert string to float: 'Москва'"
     ]
    }
   ],
   "source": [
    "df3.corr()"
   ]
  },
  {
   "cell_type": "code",
   "execution_count": null,
   "id": "7bd186f2",
   "metadata": {},
   "outputs": [],
   "source": []
  }
 ],
 "metadata": {
  "kernelspec": {
   "display_name": "Python 3 (ipykernel)",
   "language": "python",
   "name": "python3"
  },
  "language_info": {
   "codemirror_mode": {
    "name": "ipython",
    "version": 3
   },
   "file_extension": ".py",
   "mimetype": "text/x-python",
   "name": "python",
   "nbconvert_exporter": "python",
   "pygments_lexer": "ipython3",
   "version": "3.11.7"
  }
 },
 "nbformat": 4,
 "nbformat_minor": 5
}
