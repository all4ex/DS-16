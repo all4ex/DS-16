{
 "cells": [
  {
   "cell_type": "code",
   "execution_count": 16,
   "id": "33050386-9625-4970-8b7c-7a6cbef79a10",
   "metadata": {},
   "outputs": [],
   "source": [
    "def is_leap_year(year):\n",
    "    # Год високосный, если он кратен 400\n",
    "    if year % 400 == 0:\n",
    "        return True\n",
    "    # Год високосный, если он кратен 4 и не кратен 100\n",
    "    if year % 4 == 0 and year % 100 != 0:\n",
    "        return True\n",
    "    # Во всех остальных случаях год не високосный\n",
    "    return False"
   ]
  },
  {
   "cell_type": "code",
   "execution_count": 17,
   "id": "34dad9f1-44c3-4102-9bc8-3495367f7c2e",
   "metadata": {},
   "outputs": [
    {
     "data": {
      "text/plain": [
       "False"
      ]
     },
     "execution_count": 17,
     "metadata": {},
     "output_type": "execute_result"
    }
   ],
   "source": [
    "is_leap_year(2018) # false\n"
   ]
  },
  {
   "cell_type": "code",
   "execution_count": 18,
   "id": "e9bfd2d5-6a64-4227-9d68-4c03091dc9ee",
   "metadata": {},
   "outputs": [
    {
     "data": {
      "text/plain": [
       "True"
      ]
     },
     "execution_count": 18,
     "metadata": {},
     "output_type": "execute_result"
    }
   ],
   "source": [
    "\n",
    "is_leap_year(2016) # true"
   ]
  },
  {
   "cell_type": "code",
   "execution_count": null,
   "id": "d0e92e05-3e47-4c2c-bf25-d3b20dd85480",
   "metadata": {},
   "outputs": [],
   "source": []
  }
 ],
 "metadata": {
  "kernelspec": {
   "display_name": "Python 3 (ipykernel)",
   "language": "python",
   "name": "python3"
  },
  "language_info": {
   "codemirror_mode": {
    "name": "ipython",
    "version": 3
   },
   "file_extension": ".py",
   "mimetype": "text/x-python",
   "name": "python",
   "nbconvert_exporter": "python",
   "pygments_lexer": "ipython3",
   "version": "3.10.6"
  }
 },
 "nbformat": 4,
 "nbformat_minor": 5
}
